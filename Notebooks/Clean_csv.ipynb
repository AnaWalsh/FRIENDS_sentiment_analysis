{
 "cells": [
  {
   "cell_type": "code",
   "execution_count": 1,
   "id": "34f83f55",
   "metadata": {},
   "outputs": [],
   "source": [
    "import pandas as pd"
   ]
  },
  {
   "cell_type": "code",
   "execution_count": 2,
   "id": "cdcafeb7",
   "metadata": {},
   "outputs": [
    {
     "name": "stdout",
     "output_type": "stream",
     "text": [
      "/Users/awalsh/IRONHACK/PROYECTOS/W6-api-sentiment-project/Notebooks\r\n"
     ]
    }
   ],
   "source": [
    "!pwd\n"
   ]
  },
  {
   "cell_type": "code",
   "execution_count": 3,
   "id": "646a6c9b",
   "metadata": {},
   "outputs": [],
   "source": [
    "df = pd.read_csv(\"../data/friends.csv\")"
   ]
  },
  {
   "cell_type": "code",
   "execution_count": 4,
   "id": "cf25fab7",
   "metadata": {},
   "outputs": [
    {
     "data": {
      "text/html": [
       "<div>\n",
       "<style scoped>\n",
       "    .dataframe tbody tr th:only-of-type {\n",
       "        vertical-align: middle;\n",
       "    }\n",
       "\n",
       "    .dataframe tbody tr th {\n",
       "        vertical-align: top;\n",
       "    }\n",
       "\n",
       "    .dataframe thead th {\n",
       "        text-align: right;\n",
       "    }\n",
       "</style>\n",
       "<table border=\"1\" class=\"dataframe\">\n",
       "  <thead>\n",
       "    <tr style=\"text-align: right;\">\n",
       "      <th></th>\n",
       "      <th>author</th>\n",
       "      <th>episode_number</th>\n",
       "      <th>episode_title</th>\n",
       "      <th>quote</th>\n",
       "      <th>quote_order</th>\n",
       "      <th>season</th>\n",
       "    </tr>\n",
       "  </thead>\n",
       "  <tbody>\n",
       "    <tr>\n",
       "      <th>0</th>\n",
       "      <td>Monica</td>\n",
       "      <td>1.0</td>\n",
       "      <td>Monica Gets A Roommate</td>\n",
       "      <td>There's nothing to tell! He's just some guy I ...</td>\n",
       "      <td>0.0</td>\n",
       "      <td>1.0</td>\n",
       "    </tr>\n",
       "    <tr>\n",
       "      <th>1</th>\n",
       "      <td>Joey</td>\n",
       "      <td>1.0</td>\n",
       "      <td>Monica Gets A Roommate</td>\n",
       "      <td>C'mon, you're going out with the guy! There's ...</td>\n",
       "      <td>1.0</td>\n",
       "      <td>1.0</td>\n",
       "    </tr>\n",
       "    <tr>\n",
       "      <th>2</th>\n",
       "      <td>Chandler</td>\n",
       "      <td>1.0</td>\n",
       "      <td>Monica Gets A Roommate</td>\n",
       "      <td>All right Joey, be nice. So does he have a hum...</td>\n",
       "      <td>2.0</td>\n",
       "      <td>1.0</td>\n",
       "    </tr>\n",
       "    <tr>\n",
       "      <th>3</th>\n",
       "      <td>Phoebe</td>\n",
       "      <td>1.0</td>\n",
       "      <td>Monica Gets A Roommate</td>\n",
       "      <td>Wait, does he eat chalk?</td>\n",
       "      <td>3.0</td>\n",
       "      <td>1.0</td>\n",
       "    </tr>\n",
       "    <tr>\n",
       "      <th>4</th>\n",
       "      <td>Phoebe</td>\n",
       "      <td>1.0</td>\n",
       "      <td>Monica Gets A Roommate</td>\n",
       "      <td>Just, 'cause, I don't want her to go through w...</td>\n",
       "      <td>4.0</td>\n",
       "      <td>1.0</td>\n",
       "    </tr>\n",
       "  </tbody>\n",
       "</table>\n",
       "</div>"
      ],
      "text/plain": [
       "     author  episode_number           episode_title  \\\n",
       "0    Monica             1.0  Monica Gets A Roommate   \n",
       "1      Joey             1.0  Monica Gets A Roommate   \n",
       "2  Chandler             1.0  Monica Gets A Roommate   \n",
       "3    Phoebe             1.0  Monica Gets A Roommate   \n",
       "4    Phoebe             1.0  Monica Gets A Roommate   \n",
       "\n",
       "                                               quote  quote_order  season  \n",
       "0  There's nothing to tell! He's just some guy I ...          0.0     1.0  \n",
       "1  C'mon, you're going out with the guy! There's ...          1.0     1.0  \n",
       "2  All right Joey, be nice. So does he have a hum...          2.0     1.0  \n",
       "3                           Wait, does he eat chalk?          3.0     1.0  \n",
       "4  Just, 'cause, I don't want her to go through w...          4.0     1.0  "
      ]
     },
     "execution_count": 4,
     "metadata": {},
     "output_type": "execute_result"
    }
   ],
   "source": [
    "df.head()"
   ]
  },
  {
   "cell_type": "code",
   "execution_count": 5,
   "id": "68b881db",
   "metadata": {},
   "outputs": [],
   "source": [
    "friends = df[[\"season\", \"episode_number\",\"episode_title\",\"quote\",\"author\"]]"
   ]
  },
  {
   "cell_type": "code",
   "execution_count": 6,
   "id": "e53196e3",
   "metadata": {},
   "outputs": [
    {
     "data": {
      "text/plain": [
       "(60291, 5)"
      ]
     },
     "execution_count": 6,
     "metadata": {},
     "output_type": "execute_result"
    }
   ],
   "source": [
    "friends.shape\n"
   ]
  },
  {
   "cell_type": "code",
   "execution_count": 1,
   "id": "e17cafce",
   "metadata": {},
   "outputs": [],
   "source": [
    "#list(friends.author.unique())"
   ]
  },
  {
   "cell_type": "code",
   "execution_count": 8,
   "id": "f99919e4",
   "metadata": {},
   "outputs": [],
   "source": [
    "#dict(friends.author.value_counts()).keys()"
   ]
  },
  {
   "cell_type": "code",
   "execution_count": 9,
   "id": "f2f0a725",
   "metadata": {
    "scrolled": true
   },
   "outputs": [],
   "source": [
    "list_ = list(friends.author.unique())\n",
    "#print(list_)"
   ]
  },
  {
   "cell_type": "code",
   "execution_count": 10,
   "id": "ede4cbec",
   "metadata": {},
   "outputs": [],
   "source": [
    "def mayus(string):\n",
    "    return string.capitalize()"
   ]
  },
  {
   "cell_type": "code",
   "execution_count": 11,
   "id": "e00a52dd",
   "metadata": {},
   "outputs": [
    {
     "data": {
      "text/plain": [
       "'Ana'"
      ]
     },
     "execution_count": 11,
     "metadata": {},
     "output_type": "execute_result"
    }
   ],
   "source": [
    "mayus(\"ana\")"
   ]
  },
  {
   "cell_type": "code",
   "execution_count": 12,
   "id": "67e926e6",
   "metadata": {},
   "outputs": [
    {
     "data": {
      "text/plain": [
       "0          Monica\n",
       "1            Joey\n",
       "2        Chandler\n",
       "3          Phoebe\n",
       "4          Phoebe\n",
       "           ...   \n",
       "60286    Chandler\n",
       "60287      Rachel\n",
       "60288      Monica\n",
       "60289      Rachel\n",
       "60290    Chandler\n",
       "Name: author, Length: 60291, dtype: object"
      ]
     },
     "execution_count": 12,
     "metadata": {},
     "output_type": "execute_result"
    }
   ],
   "source": [
    "friends.author.apply(mayus)"
   ]
  },
  {
   "cell_type": "code",
   "execution_count": 13,
   "id": "9647d5b6",
   "metadata": {},
   "outputs": [
    {
     "data": {
      "text/html": [
       "<div>\n",
       "<style scoped>\n",
       "    .dataframe tbody tr th:only-of-type {\n",
       "        vertical-align: middle;\n",
       "    }\n",
       "\n",
       "    .dataframe tbody tr th {\n",
       "        vertical-align: top;\n",
       "    }\n",
       "\n",
       "    .dataframe thead th {\n",
       "        text-align: right;\n",
       "    }\n",
       "</style>\n",
       "<table border=\"1\" class=\"dataframe\">\n",
       "  <thead>\n",
       "    <tr style=\"text-align: right;\">\n",
       "      <th></th>\n",
       "      <th>season</th>\n",
       "      <th>episode_number</th>\n",
       "      <th>episode_title</th>\n",
       "      <th>quote</th>\n",
       "      <th>author</th>\n",
       "    </tr>\n",
       "  </thead>\n",
       "  <tbody>\n",
       "    <tr>\n",
       "      <th>0</th>\n",
       "      <td>1.0</td>\n",
       "      <td>1.0</td>\n",
       "      <td>Monica Gets A Roommate</td>\n",
       "      <td>There's nothing to tell! He's just some guy I ...</td>\n",
       "      <td>Monica</td>\n",
       "    </tr>\n",
       "    <tr>\n",
       "      <th>1</th>\n",
       "      <td>1.0</td>\n",
       "      <td>1.0</td>\n",
       "      <td>Monica Gets A Roommate</td>\n",
       "      <td>C'mon, you're going out with the guy! There's ...</td>\n",
       "      <td>Joey</td>\n",
       "    </tr>\n",
       "    <tr>\n",
       "      <th>2</th>\n",
       "      <td>1.0</td>\n",
       "      <td>1.0</td>\n",
       "      <td>Monica Gets A Roommate</td>\n",
       "      <td>All right Joey, be nice. So does he have a hum...</td>\n",
       "      <td>Chandler</td>\n",
       "    </tr>\n",
       "    <tr>\n",
       "      <th>3</th>\n",
       "      <td>1.0</td>\n",
       "      <td>1.0</td>\n",
       "      <td>Monica Gets A Roommate</td>\n",
       "      <td>Wait, does he eat chalk?</td>\n",
       "      <td>Phoebe</td>\n",
       "    </tr>\n",
       "    <tr>\n",
       "      <th>4</th>\n",
       "      <td>1.0</td>\n",
       "      <td>1.0</td>\n",
       "      <td>Monica Gets A Roommate</td>\n",
       "      <td>Just, 'cause, I don't want her to go through w...</td>\n",
       "      <td>Phoebe</td>\n",
       "    </tr>\n",
       "  </tbody>\n",
       "</table>\n",
       "</div>"
      ],
      "text/plain": [
       "   season  episode_number           episode_title  \\\n",
       "0     1.0             1.0  Monica Gets A Roommate   \n",
       "1     1.0             1.0  Monica Gets A Roommate   \n",
       "2     1.0             1.0  Monica Gets A Roommate   \n",
       "3     1.0             1.0  Monica Gets A Roommate   \n",
       "4     1.0             1.0  Monica Gets A Roommate   \n",
       "\n",
       "                                               quote    author  \n",
       "0  There's nothing to tell! He's just some guy I ...    Monica  \n",
       "1  C'mon, you're going out with the guy! There's ...      Joey  \n",
       "2  All right Joey, be nice. So does he have a hum...  Chandler  \n",
       "3                           Wait, does he eat chalk?    Phoebe  \n",
       "4  Just, 'cause, I don't want her to go through w...    Phoebe  "
      ]
     },
     "execution_count": 13,
     "metadata": {},
     "output_type": "execute_result"
    }
   ],
   "source": [
    "friends.head()"
   ]
  },
  {
   "cell_type": "code",
   "execution_count": 14,
   "id": "373a0b13",
   "metadata": {},
   "outputs": [],
   "source": [
    "#df.loc[(df['column_name'] >= A) & (df['column_name'] <= B)]\n",
    "data = friends.loc[(friends['author']== 'Monica') & (friends['author']== 'Rachel') & (friends['author']== 'Phoebe')\n",
    "& (friends['author']== 'Ross') & (friends['author']== 'Chandler') & (friends['author']== 'Joey')]                  "
   ]
  },
  {
   "cell_type": "code",
   "execution_count": 15,
   "id": "86396563",
   "metadata": {},
   "outputs": [],
   "source": [
    "names = ['Monica', 'Rachel', 'Phoebe', 'Chandler', 'Joey', 'Ross']"
   ]
  },
  {
   "cell_type": "code",
   "execution_count": 16,
   "id": "487b1b58",
   "metadata": {},
   "outputs": [],
   "source": [
    "data = friends.loc[friends['author'].isin(names)]"
   ]
  },
  {
   "cell_type": "code",
   "execution_count": 17,
   "id": "15f21b92",
   "metadata": {},
   "outputs": [
    {
     "data": {
      "text/html": [
       "<div>\n",
       "<style scoped>\n",
       "    .dataframe tbody tr th:only-of-type {\n",
       "        vertical-align: middle;\n",
       "    }\n",
       "\n",
       "    .dataframe tbody tr th {\n",
       "        vertical-align: top;\n",
       "    }\n",
       "\n",
       "    .dataframe thead th {\n",
       "        text-align: right;\n",
       "    }\n",
       "</style>\n",
       "<table border=\"1\" class=\"dataframe\">\n",
       "  <thead>\n",
       "    <tr style=\"text-align: right;\">\n",
       "      <th></th>\n",
       "      <th>season</th>\n",
       "      <th>episode_number</th>\n",
       "      <th>episode_title</th>\n",
       "      <th>quote</th>\n",
       "      <th>author</th>\n",
       "    </tr>\n",
       "  </thead>\n",
       "  <tbody>\n",
       "    <tr>\n",
       "      <th>0</th>\n",
       "      <td>1.0</td>\n",
       "      <td>1.0</td>\n",
       "      <td>Monica Gets A Roommate</td>\n",
       "      <td>There's nothing to tell! He's just some guy I ...</td>\n",
       "      <td>Monica</td>\n",
       "    </tr>\n",
       "    <tr>\n",
       "      <th>1</th>\n",
       "      <td>1.0</td>\n",
       "      <td>1.0</td>\n",
       "      <td>Monica Gets A Roommate</td>\n",
       "      <td>C'mon, you're going out with the guy! There's ...</td>\n",
       "      <td>Joey</td>\n",
       "    </tr>\n",
       "    <tr>\n",
       "      <th>2</th>\n",
       "      <td>1.0</td>\n",
       "      <td>1.0</td>\n",
       "      <td>Monica Gets A Roommate</td>\n",
       "      <td>All right Joey, be nice. So does he have a hum...</td>\n",
       "      <td>Chandler</td>\n",
       "    </tr>\n",
       "    <tr>\n",
       "      <th>3</th>\n",
       "      <td>1.0</td>\n",
       "      <td>1.0</td>\n",
       "      <td>Monica Gets A Roommate</td>\n",
       "      <td>Wait, does he eat chalk?</td>\n",
       "      <td>Phoebe</td>\n",
       "    </tr>\n",
       "    <tr>\n",
       "      <th>4</th>\n",
       "      <td>1.0</td>\n",
       "      <td>1.0</td>\n",
       "      <td>Monica Gets A Roommate</td>\n",
       "      <td>Just, 'cause, I don't want her to go through w...</td>\n",
       "      <td>Phoebe</td>\n",
       "    </tr>\n",
       "    <tr>\n",
       "      <th>...</th>\n",
       "      <td>...</td>\n",
       "      <td>...</td>\n",
       "      <td>...</td>\n",
       "      <td>...</td>\n",
       "      <td>...</td>\n",
       "    </tr>\n",
       "    <tr>\n",
       "      <th>60286</th>\n",
       "      <td>10.0</td>\n",
       "      <td>17.0</td>\n",
       "      <td>The Last One, Part I &amp; II</td>\n",
       "      <td>Oh, it's gonna be okay.</td>\n",
       "      <td>Chandler</td>\n",
       "    </tr>\n",
       "    <tr>\n",
       "      <th>60287</th>\n",
       "      <td>10.0</td>\n",
       "      <td>17.0</td>\n",
       "      <td>The Last One, Part I &amp; II</td>\n",
       "      <td>(crying) Do you guys have to go to the new hou...</td>\n",
       "      <td>Rachel</td>\n",
       "    </tr>\n",
       "    <tr>\n",
       "      <th>60288</th>\n",
       "      <td>10.0</td>\n",
       "      <td>17.0</td>\n",
       "      <td>The Last One, Part I &amp; II</td>\n",
       "      <td>We got some time.</td>\n",
       "      <td>Monica</td>\n",
       "    </tr>\n",
       "    <tr>\n",
       "      <th>60289</th>\n",
       "      <td>10.0</td>\n",
       "      <td>17.0</td>\n",
       "      <td>The Last One, Part I &amp; II</td>\n",
       "      <td>Okay, should we get some coffee?</td>\n",
       "      <td>Rachel</td>\n",
       "    </tr>\n",
       "    <tr>\n",
       "      <th>60290</th>\n",
       "      <td>10.0</td>\n",
       "      <td>17.0</td>\n",
       "      <td>The Last One, Part I &amp; II</td>\n",
       "      <td>Sure. Where?</td>\n",
       "      <td>Chandler</td>\n",
       "    </tr>\n",
       "  </tbody>\n",
       "</table>\n",
       "<p>45482 rows × 5 columns</p>\n",
       "</div>"
      ],
      "text/plain": [
       "       season  episode_number              episode_title  \\\n",
       "0         1.0             1.0     Monica Gets A Roommate   \n",
       "1         1.0             1.0     Monica Gets A Roommate   \n",
       "2         1.0             1.0     Monica Gets A Roommate   \n",
       "3         1.0             1.0     Monica Gets A Roommate   \n",
       "4         1.0             1.0     Monica Gets A Roommate   \n",
       "...       ...             ...                        ...   \n",
       "60286    10.0            17.0  The Last One, Part I & II   \n",
       "60287    10.0            17.0  The Last One, Part I & II   \n",
       "60288    10.0            17.0  The Last One, Part I & II   \n",
       "60289    10.0            17.0  The Last One, Part I & II   \n",
       "60290    10.0            17.0  The Last One, Part I & II   \n",
       "\n",
       "                                                   quote    author  \n",
       "0      There's nothing to tell! He's just some guy I ...    Monica  \n",
       "1      C'mon, you're going out with the guy! There's ...      Joey  \n",
       "2      All right Joey, be nice. So does he have a hum...  Chandler  \n",
       "3                               Wait, does he eat chalk?    Phoebe  \n",
       "4      Just, 'cause, I don't want her to go through w...    Phoebe  \n",
       "...                                                  ...       ...  \n",
       "60286                            Oh, it's gonna be okay.  Chandler  \n",
       "60287  (crying) Do you guys have to go to the new hou...    Rachel  \n",
       "60288                                  We got some time.    Monica  \n",
       "60289                   Okay, should we get some coffee?    Rachel  \n",
       "60290                                       Sure. Where?  Chandler  \n",
       "\n",
       "[45482 rows x 5 columns]"
      ]
     },
     "execution_count": 17,
     "metadata": {},
     "output_type": "execute_result"
    }
   ],
   "source": [
    "data"
   ]
  },
  {
   "cell_type": "code",
   "execution_count": 18,
   "id": "49369b1d",
   "metadata": {},
   "outputs": [
    {
     "name": "stdout",
     "output_type": "stream",
     "text": [
      "<class 'pandas.core.frame.DataFrame'>\n",
      "Int64Index: 45482 entries, 0 to 60290\n",
      "Data columns (total 5 columns):\n",
      " #   Column          Non-Null Count  Dtype  \n",
      "---  ------          --------------  -----  \n",
      " 0   season          45482 non-null  float64\n",
      " 1   episode_number  45482 non-null  float64\n",
      " 2   episode_title   45482 non-null  object \n",
      " 3   quote           45482 non-null  object \n",
      " 4   author          45482 non-null  object \n",
      "dtypes: float64(2), object(3)\n",
      "memory usage: 2.1+ MB\n"
     ]
    }
   ],
   "source": [
    "data.info()"
   ]
  },
  {
   "cell_type": "code",
   "execution_count": 19,
   "id": "a8cee5ab",
   "metadata": {},
   "outputs": [
    {
     "name": "stderr",
     "output_type": "stream",
     "text": [
      "<ipython-input-19-ea07cc9678e3>:1: SettingWithCopyWarning: \n",
      "A value is trying to be set on a copy of a slice from a DataFrame.\n",
      "Try using .loc[row_indexer,col_indexer] = value instead\n",
      "\n",
      "See the caveats in the documentation: https://pandas.pydata.org/pandas-docs/stable/user_guide/indexing.html#returning-a-view-versus-a-copy\n",
      "  data[\"episode_number\"] = data[\"episode_number\"].astype(dtype=\"int64\")\n"
     ]
    }
   ],
   "source": [
    "data[\"episode_number\"] = data[\"episode_number\"].astype(dtype=\"int64\")"
   ]
  },
  {
   "cell_type": "code",
   "execution_count": 20,
   "id": "5bfaa3a2",
   "metadata": {},
   "outputs": [
    {
     "name": "stderr",
     "output_type": "stream",
     "text": [
      "<ipython-input-20-8d737d00e291>:1: SettingWithCopyWarning: \n",
      "A value is trying to be set on a copy of a slice from a DataFrame.\n",
      "Try using .loc[row_indexer,col_indexer] = value instead\n",
      "\n",
      "See the caveats in the documentation: https://pandas.pydata.org/pandas-docs/stable/user_guide/indexing.html#returning-a-view-versus-a-copy\n",
      "  data[\"season\"] = data[\"season\"].astype(dtype=\"int64\")\n"
     ]
    }
   ],
   "source": [
    "data[\"season\"] = data[\"season\"].astype(dtype=\"int64\")"
   ]
  },
  {
   "cell_type": "code",
   "execution_count": 21,
   "id": "65cc5bb4",
   "metadata": {},
   "outputs": [
    {
     "data": {
      "text/plain": [
       "(45482, 5)"
      ]
     },
     "execution_count": 21,
     "metadata": {},
     "output_type": "execute_result"
    }
   ],
   "source": [
    "data.shape"
   ]
  },
  {
   "cell_type": "code",
   "execution_count": 22,
   "id": "735b0a18",
   "metadata": {},
   "outputs": [
    {
     "data": {
      "text/html": [
       "<div>\n",
       "<style scoped>\n",
       "    .dataframe tbody tr th:only-of-type {\n",
       "        vertical-align: middle;\n",
       "    }\n",
       "\n",
       "    .dataframe tbody tr th {\n",
       "        vertical-align: top;\n",
       "    }\n",
       "\n",
       "    .dataframe thead th {\n",
       "        text-align: right;\n",
       "    }\n",
       "</style>\n",
       "<table border=\"1\" class=\"dataframe\">\n",
       "  <thead>\n",
       "    <tr style=\"text-align: right;\">\n",
       "      <th></th>\n",
       "      <th>season</th>\n",
       "      <th>episode_number</th>\n",
       "      <th>episode_title</th>\n",
       "      <th>quote</th>\n",
       "      <th>author</th>\n",
       "    </tr>\n",
       "  </thead>\n",
       "  <tbody>\n",
       "    <tr>\n",
       "      <th>0</th>\n",
       "      <td>1</td>\n",
       "      <td>1</td>\n",
       "      <td>Monica Gets A Roommate</td>\n",
       "      <td>There's nothing to tell! He's just some guy I ...</td>\n",
       "      <td>Monica</td>\n",
       "    </tr>\n",
       "    <tr>\n",
       "      <th>1</th>\n",
       "      <td>1</td>\n",
       "      <td>1</td>\n",
       "      <td>Monica Gets A Roommate</td>\n",
       "      <td>C'mon, you're going out with the guy! There's ...</td>\n",
       "      <td>Joey</td>\n",
       "    </tr>\n",
       "    <tr>\n",
       "      <th>2</th>\n",
       "      <td>1</td>\n",
       "      <td>1</td>\n",
       "      <td>Monica Gets A Roommate</td>\n",
       "      <td>All right Joey, be nice. So does he have a hum...</td>\n",
       "      <td>Chandler</td>\n",
       "    </tr>\n",
       "    <tr>\n",
       "      <th>3</th>\n",
       "      <td>1</td>\n",
       "      <td>1</td>\n",
       "      <td>Monica Gets A Roommate</td>\n",
       "      <td>Wait, does he eat chalk?</td>\n",
       "      <td>Phoebe</td>\n",
       "    </tr>\n",
       "    <tr>\n",
       "      <th>4</th>\n",
       "      <td>1</td>\n",
       "      <td>1</td>\n",
       "      <td>Monica Gets A Roommate</td>\n",
       "      <td>Just, 'cause, I don't want her to go through w...</td>\n",
       "      <td>Phoebe</td>\n",
       "    </tr>\n",
       "  </tbody>\n",
       "</table>\n",
       "</div>"
      ],
      "text/plain": [
       "   season  episode_number           episode_title  \\\n",
       "0       1               1  Monica Gets A Roommate   \n",
       "1       1               1  Monica Gets A Roommate   \n",
       "2       1               1  Monica Gets A Roommate   \n",
       "3       1               1  Monica Gets A Roommate   \n",
       "4       1               1  Monica Gets A Roommate   \n",
       "\n",
       "                                               quote    author  \n",
       "0  There's nothing to tell! He's just some guy I ...    Monica  \n",
       "1  C'mon, you're going out with the guy! There's ...      Joey  \n",
       "2  All right Joey, be nice. So does he have a hum...  Chandler  \n",
       "3                           Wait, does he eat chalk?    Phoebe  \n",
       "4  Just, 'cause, I don't want her to go through w...    Phoebe  "
      ]
     },
     "execution_count": 22,
     "metadata": {},
     "output_type": "execute_result"
    }
   ],
   "source": [
    "data.head()"
   ]
  },
  {
   "cell_type": "code",
   "execution_count": 23,
   "id": "af536d8d",
   "metadata": {},
   "outputs": [
    {
     "name": "stdout",
     "output_type": "stream",
     "text": [
      "['Monica', 'Joey', 'Chandler', 'Phoebe', 'Ross', 'Rachel']\n"
     ]
    }
   ],
   "source": [
    "authors = list(data.author.unique())\n",
    "print(authors)"
   ]
  },
  {
   "cell_type": "code",
   "execution_count": 24,
   "id": "eccaa64d",
   "metadata": {},
   "outputs": [],
   "source": [
    "def sustituye(x):\n",
    "    x = str(x).replace('\"', \"`\")\n",
    "    x = str(x).replace(\"'\", \"`\")\n",
    "    return x"
   ]
  },
  {
   "cell_type": "code",
   "execution_count": 25,
   "id": "becc0416",
   "metadata": {},
   "outputs": [
    {
     "name": "stderr",
     "output_type": "stream",
     "text": [
      "<ipython-input-25-ba10d9e05ba6>:1: SettingWithCopyWarning: \n",
      "A value is trying to be set on a copy of a slice from a DataFrame.\n",
      "Try using .loc[row_indexer,col_indexer] = value instead\n",
      "\n",
      "See the caveats in the documentation: https://pandas.pydata.org/pandas-docs/stable/user_guide/indexing.html#returning-a-view-versus-a-copy\n",
      "  data[\"quote\"] = data.quote.apply(sustituye)\n"
     ]
    }
   ],
   "source": [
    "data[\"quote\"] = data.quote.apply(sustituye)"
   ]
  },
  {
   "cell_type": "code",
   "execution_count": 26,
   "id": "8749c409",
   "metadata": {},
   "outputs": [
    {
     "name": "stderr",
     "output_type": "stream",
     "text": [
      "<ipython-input-26-388515b818dd>:1: SettingWithCopyWarning: \n",
      "A value is trying to be set on a copy of a slice from a DataFrame.\n",
      "Try using .loc[row_indexer,col_indexer] = value instead\n",
      "\n",
      "See the caveats in the documentation: https://pandas.pydata.org/pandas-docs/stable/user_guide/indexing.html#returning-a-view-versus-a-copy\n",
      "  data[\"episode_title\"] = data.episode_title.apply(sustituye)\n"
     ]
    }
   ],
   "source": [
    "data[\"episode_title\"] = data.episode_title.apply(sustituye)"
   ]
  },
  {
   "cell_type": "code",
   "execution_count": 27,
   "id": "8c85432b",
   "metadata": {},
   "outputs": [
    {
     "data": {
      "text/html": [
       "<div>\n",
       "<style scoped>\n",
       "    .dataframe tbody tr th:only-of-type {\n",
       "        vertical-align: middle;\n",
       "    }\n",
       "\n",
       "    .dataframe tbody tr th {\n",
       "        vertical-align: top;\n",
       "    }\n",
       "\n",
       "    .dataframe thead th {\n",
       "        text-align: right;\n",
       "    }\n",
       "</style>\n",
       "<table border=\"1\" class=\"dataframe\">\n",
       "  <thead>\n",
       "    <tr style=\"text-align: right;\">\n",
       "      <th></th>\n",
       "      <th>season</th>\n",
       "      <th>episode_number</th>\n",
       "      <th>episode_title</th>\n",
       "      <th>quote</th>\n",
       "      <th>author</th>\n",
       "    </tr>\n",
       "  </thead>\n",
       "  <tbody>\n",
       "    <tr>\n",
       "      <th>0</th>\n",
       "      <td>1</td>\n",
       "      <td>1</td>\n",
       "      <td>Monica Gets A Roommate</td>\n",
       "      <td>There`s nothing to tell! He`s just some guy I ...</td>\n",
       "      <td>Monica</td>\n",
       "    </tr>\n",
       "    <tr>\n",
       "      <th>1</th>\n",
       "      <td>1</td>\n",
       "      <td>1</td>\n",
       "      <td>Monica Gets A Roommate</td>\n",
       "      <td>C`mon, you`re going out with the guy! There`s ...</td>\n",
       "      <td>Joey</td>\n",
       "    </tr>\n",
       "    <tr>\n",
       "      <th>2</th>\n",
       "      <td>1</td>\n",
       "      <td>1</td>\n",
       "      <td>Monica Gets A Roommate</td>\n",
       "      <td>All right Joey, be nice. So does he have a hum...</td>\n",
       "      <td>Chandler</td>\n",
       "    </tr>\n",
       "    <tr>\n",
       "      <th>3</th>\n",
       "      <td>1</td>\n",
       "      <td>1</td>\n",
       "      <td>Monica Gets A Roommate</td>\n",
       "      <td>Wait, does he eat chalk?</td>\n",
       "      <td>Phoebe</td>\n",
       "    </tr>\n",
       "    <tr>\n",
       "      <th>4</th>\n",
       "      <td>1</td>\n",
       "      <td>1</td>\n",
       "      <td>Monica Gets A Roommate</td>\n",
       "      <td>Just, `cause, I don`t want her to go through w...</td>\n",
       "      <td>Phoebe</td>\n",
       "    </tr>\n",
       "    <tr>\n",
       "      <th>...</th>\n",
       "      <td>...</td>\n",
       "      <td>...</td>\n",
       "      <td>...</td>\n",
       "      <td>...</td>\n",
       "      <td>...</td>\n",
       "    </tr>\n",
       "    <tr>\n",
       "      <th>60286</th>\n",
       "      <td>10</td>\n",
       "      <td>17</td>\n",
       "      <td>The Last One, Part I &amp; II</td>\n",
       "      <td>Oh, it`s gonna be okay.</td>\n",
       "      <td>Chandler</td>\n",
       "    </tr>\n",
       "    <tr>\n",
       "      <th>60287</th>\n",
       "      <td>10</td>\n",
       "      <td>17</td>\n",
       "      <td>The Last One, Part I &amp; II</td>\n",
       "      <td>(crying) Do you guys have to go to the new hou...</td>\n",
       "      <td>Rachel</td>\n",
       "    </tr>\n",
       "    <tr>\n",
       "      <th>60288</th>\n",
       "      <td>10</td>\n",
       "      <td>17</td>\n",
       "      <td>The Last One, Part I &amp; II</td>\n",
       "      <td>We got some time.</td>\n",
       "      <td>Monica</td>\n",
       "    </tr>\n",
       "    <tr>\n",
       "      <th>60289</th>\n",
       "      <td>10</td>\n",
       "      <td>17</td>\n",
       "      <td>The Last One, Part I &amp; II</td>\n",
       "      <td>Okay, should we get some coffee?</td>\n",
       "      <td>Rachel</td>\n",
       "    </tr>\n",
       "    <tr>\n",
       "      <th>60290</th>\n",
       "      <td>10</td>\n",
       "      <td>17</td>\n",
       "      <td>The Last One, Part I &amp; II</td>\n",
       "      <td>Sure. Where?</td>\n",
       "      <td>Chandler</td>\n",
       "    </tr>\n",
       "  </tbody>\n",
       "</table>\n",
       "<p>45482 rows × 5 columns</p>\n",
       "</div>"
      ],
      "text/plain": [
       "       season  episode_number              episode_title  \\\n",
       "0           1               1     Monica Gets A Roommate   \n",
       "1           1               1     Monica Gets A Roommate   \n",
       "2           1               1     Monica Gets A Roommate   \n",
       "3           1               1     Monica Gets A Roommate   \n",
       "4           1               1     Monica Gets A Roommate   \n",
       "...       ...             ...                        ...   \n",
       "60286      10              17  The Last One, Part I & II   \n",
       "60287      10              17  The Last One, Part I & II   \n",
       "60288      10              17  The Last One, Part I & II   \n",
       "60289      10              17  The Last One, Part I & II   \n",
       "60290      10              17  The Last One, Part I & II   \n",
       "\n",
       "                                                   quote    author  \n",
       "0      There`s nothing to tell! He`s just some guy I ...    Monica  \n",
       "1      C`mon, you`re going out with the guy! There`s ...      Joey  \n",
       "2      All right Joey, be nice. So does he have a hum...  Chandler  \n",
       "3                               Wait, does he eat chalk?    Phoebe  \n",
       "4      Just, `cause, I don`t want her to go through w...    Phoebe  \n",
       "...                                                  ...       ...  \n",
       "60286                            Oh, it`s gonna be okay.  Chandler  \n",
       "60287  (crying) Do you guys have to go to the new hou...    Rachel  \n",
       "60288                                  We got some time.    Monica  \n",
       "60289                   Okay, should we get some coffee?    Rachel  \n",
       "60290                                       Sure. Where?  Chandler  \n",
       "\n",
       "[45482 rows x 5 columns]"
      ]
     },
     "execution_count": 27,
     "metadata": {},
     "output_type": "execute_result"
    }
   ],
   "source": [
    "data"
   ]
  },
  {
   "cell_type": "code",
   "execution_count": 28,
   "id": "96a75cef",
   "metadata": {},
   "outputs": [],
   "source": [
    "data.to_csv('../data/friends_clean.csv')"
   ]
  }
 ],
 "metadata": {
  "kernelspec": {
   "display_name": "ironhack",
   "language": "python",
   "name": "ironhack"
  },
  "language_info": {
   "codemirror_mode": {
    "name": "ipython",
    "version": 3
   },
   "file_extension": ".py",
   "mimetype": "text/x-python",
   "name": "python",
   "nbconvert_exporter": "python",
   "pygments_lexer": "ipython3",
   "version": "3.8.5"
  }
 },
 "nbformat": 4,
 "nbformat_minor": 5
}
