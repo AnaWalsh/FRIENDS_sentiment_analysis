{
 "cells": [
  {
   "cell_type": "code",
   "execution_count": 4,
   "id": "340ffb6f",
   "metadata": {},
   "outputs": [],
   "source": [
    "import requests \n",
    "import json\n",
    "import os\n",
    "from dotenv import load_dotenv\n",
    "import pandas as pd\n",
    "from pandas import json_normalize\n",
    "import time\n",
    "import sys\n",
    "sys.path.append('../')\n"
   ]
  },
  {
   "cell_type": "code",
   "execution_count": 5,
   "id": "23433ea8",
   "metadata": {},
   "outputs": [
    {
     "name": "stderr",
     "output_type": "stream",
     "text": [
      "[nltk_data] Downloading package vader_lexicon to\n",
      "[nltk_data]     /Users/awalsh/nltk_data...\n",
      "[nltk_data]   Package vader_lexicon is already up-to-date!\n"
     ]
    }
   ],
   "source": [
    "import string\n",
    "import spacy\n",
    "import en_core_web_sm\n",
    "from nltk.corpus import stopwords\n",
    "import re\n",
    "from textblob import TextBlob\n",
    "import nltk\n",
    "nltk.downloader.download('vader_lexicon')\n",
    "from nltk.sentiment.vader import SentimentIntensityAnalyzer"
   ]
  },
  {
   "cell_type": "code",
   "execution_count": 6,
   "id": "0fed0525",
   "metadata": {},
   "outputs": [
    {
     "name": "stderr",
     "output_type": "stream",
     "text": [
      "[nltk_data] Downloading package vader_lexicon to\n",
      "[nltk_data]     /Users/awalsh/nltk_data...\n",
      "[nltk_data]   Package vader_lexicon is already up-to-date!\n"
     ]
    }
   ],
   "source": [
    "import src.sentiment_tools as snt"
   ]
  },
  {
   "cell_type": "code",
   "execution_count": 1,
   "id": "5f869dcd",
   "metadata": {},
   "outputs": [],
   "source": [
    "from textblob import TextBlob"
   ]
  },
  {
   "cell_type": "code",
   "execution_count": 7,
   "id": "e29ab11d",
   "metadata": {},
   "outputs": [],
   "source": [
    "df = pd.read_csv(\"../data/friends_sample.csv\")"
   ]
  },
  {
   "cell_type": "code",
   "execution_count": 8,
   "id": "6299bdb2",
   "metadata": {},
   "outputs": [
    {
     "data": {
      "text/html": [
       "<div>\n",
       "<style scoped>\n",
       "    .dataframe tbody tr th:only-of-type {\n",
       "        vertical-align: middle;\n",
       "    }\n",
       "\n",
       "    .dataframe tbody tr th {\n",
       "        vertical-align: top;\n",
       "    }\n",
       "\n",
       "    .dataframe thead th {\n",
       "        text-align: right;\n",
       "    }\n",
       "</style>\n",
       "<table border=\"1\" class=\"dataframe\">\n",
       "  <thead>\n",
       "    <tr style=\"text-align: right;\">\n",
       "      <th></th>\n",
       "      <th>Unnamed: 0</th>\n",
       "      <th>Unnamed: 0.1</th>\n",
       "      <th>season</th>\n",
       "      <th>episode_number</th>\n",
       "      <th>episode_title</th>\n",
       "      <th>quote</th>\n",
       "      <th>author</th>\n",
       "    </tr>\n",
       "  </thead>\n",
       "  <tbody>\n",
       "    <tr>\n",
       "      <th>0</th>\n",
       "      <td>24034</td>\n",
       "      <td>34209</td>\n",
       "      <td>6</td>\n",
       "      <td>17</td>\n",
       "      <td>Unagi</td>\n",
       "      <td>I am so, so, so, so sorry!</td>\n",
       "      <td>Chandler</td>\n",
       "    </tr>\n",
       "    <tr>\n",
       "      <th>1</th>\n",
       "      <td>12509</td>\n",
       "      <td>20874</td>\n",
       "      <td>4</td>\n",
       "      <td>12</td>\n",
       "      <td>The Embryos</td>\n",
       "      <td>Umm, yeah, uh-huh, theyre implanted.</td>\n",
       "      <td>Phoebe</td>\n",
       "    </tr>\n",
       "    <tr>\n",
       "      <th>2</th>\n",
       "      <td>37065</td>\n",
       "      <td>49710</td>\n",
       "      <td>9</td>\n",
       "      <td>3</td>\n",
       "      <td>The Pediatrician</td>\n",
       "      <td>That was not a security blanket! That was a wa...</td>\n",
       "      <td>Chandler</td>\n",
       "    </tr>\n",
       "    <tr>\n",
       "      <th>3</th>\n",
       "      <td>19562</td>\n",
       "      <td>29169</td>\n",
       "      <td>5</td>\n",
       "      <td>22</td>\n",
       "      <td>Joey`s Big Break</td>\n",
       "      <td>North route or south route?</td>\n",
       "      <td>Phoebe</td>\n",
       "    </tr>\n",
       "    <tr>\n",
       "      <th>4</th>\n",
       "      <td>226</td>\n",
       "      <td>257</td>\n",
       "      <td>1</td>\n",
       "      <td>1</td>\n",
       "      <td>Monica Gets A Roommate</td>\n",
       "      <td>Welcome to the real world! It sucks. You`re go...</td>\n",
       "      <td>Monica</td>\n",
       "    </tr>\n",
       "    <tr>\n",
       "      <th>...</th>\n",
       "      <td>...</td>\n",
       "      <td>...</td>\n",
       "      <td>...</td>\n",
       "      <td>...</td>\n",
       "      <td>...</td>\n",
       "      <td>...</td>\n",
       "      <td>...</td>\n",
       "    </tr>\n",
       "    <tr>\n",
       "      <th>1995</th>\n",
       "      <td>36065</td>\n",
       "      <td>48539</td>\n",
       "      <td>8</td>\n",
       "      <td>23</td>\n",
       "      <td>Rachel Has A Baby</td>\n",
       "      <td>N-no! Okay? Weve been through this! Were not...</td>\n",
       "      <td>Ross</td>\n",
       "    </tr>\n",
       "    <tr>\n",
       "      <th>1996</th>\n",
       "      <td>26306</td>\n",
       "      <td>36921</td>\n",
       "      <td>7</td>\n",
       "      <td>3</td>\n",
       "      <td>Phoebe`s Cookies</td>\n",
       "      <td>Oh, so you finally took it out of the marina huh?</td>\n",
       "      <td>Monica</td>\n",
       "    </tr>\n",
       "    <tr>\n",
       "      <th>1997</th>\n",
       "      <td>30948</td>\n",
       "      <td>42382</td>\n",
       "      <td>7</td>\n",
       "      <td>23</td>\n",
       "      <td>Chandler And Monica`s Wedding</td>\n",
       "      <td>Oh but he did say that they found the grandmot...</td>\n",
       "      <td>Rachel</td>\n",
       "    </tr>\n",
       "    <tr>\n",
       "      <th>1998</th>\n",
       "      <td>45135</td>\n",
       "      <td>59899</td>\n",
       "      <td>10</td>\n",
       "      <td>17</td>\n",
       "      <td>The Last One, Part I &amp; II</td>\n",
       "      <td>Do you think they recognize each other from in...</td>\n",
       "      <td>Monica</td>\n",
       "    </tr>\n",
       "    <tr>\n",
       "      <th>1999</th>\n",
       "      <td>17495</td>\n",
       "      <td>26751</td>\n",
       "      <td>5</td>\n",
       "      <td>13</td>\n",
       "      <td>Joey`s Bag</td>\n",
       "      <td>Are you all right?</td>\n",
       "      <td>Joey</td>\n",
       "    </tr>\n",
       "  </tbody>\n",
       "</table>\n",
       "<p>2000 rows × 7 columns</p>\n",
       "</div>"
      ],
      "text/plain": [
       "      Unnamed: 0  Unnamed: 0.1  season  episode_number  \\\n",
       "0          24034         34209       6              17   \n",
       "1          12509         20874       4              12   \n",
       "2          37065         49710       9               3   \n",
       "3          19562         29169       5              22   \n",
       "4            226           257       1               1   \n",
       "...          ...           ...     ...             ...   \n",
       "1995       36065         48539       8              23   \n",
       "1996       26306         36921       7               3   \n",
       "1997       30948         42382       7              23   \n",
       "1998       45135         59899      10              17   \n",
       "1999       17495         26751       5              13   \n",
       "\n",
       "                      episode_title  \\\n",
       "0                             Unagi   \n",
       "1                       The Embryos   \n",
       "2                  The Pediatrician   \n",
       "3                  Joey`s Big Break   \n",
       "4            Monica Gets A Roommate   \n",
       "...                             ...   \n",
       "1995              Rachel Has A Baby   \n",
       "1996               Phoebe`s Cookies   \n",
       "1997  Chandler And Monica`s Wedding   \n",
       "1998      The Last One, Part I & II   \n",
       "1999                     Joey`s Bag   \n",
       "\n",
       "                                                  quote    author  \n",
       "0                            I am so, so, so, so sorry!  Chandler  \n",
       "1                 Umm, yeah, uh-huh, theyre implanted.    Phoebe  \n",
       "2     That was not a security blanket! That was a wa...  Chandler  \n",
       "3                           North route or south route?    Phoebe  \n",
       "4     Welcome to the real world! It sucks. You`re go...    Monica  \n",
       "...                                                 ...       ...  \n",
       "1995  N-no! Okay? Weve been through this! Were not...      Ross  \n",
       "1996  Oh, so you finally took it out of the marina huh?    Monica  \n",
       "1997  Oh but he did say that they found the grandmot...    Rachel  \n",
       "1998  Do you think they recognize each other from in...    Monica  \n",
       "1999                                 Are you all right?      Joey  \n",
       "\n",
       "[2000 rows x 7 columns]"
      ]
     },
     "execution_count": 8,
     "metadata": {},
     "output_type": "execute_result"
    }
   ],
   "source": [
    "df"
   ]
  },
  {
   "cell_type": "code",
   "execution_count": 9,
   "id": "5a99c76e",
   "metadata": {},
   "outputs": [],
   "source": [
    "df[\"tokenized\"] = df.quote.apply(snt.tokenizando)"
   ]
  },
  {
   "cell_type": "code",
   "execution_count": null,
   "id": "6a7ce335",
   "metadata": {},
   "outputs": [],
   "source": []
  },
  {
   "cell_type": "code",
   "execution_count": null,
   "id": "b904af0d",
   "metadata": {},
   "outputs": [],
   "source": []
  },
  {
   "cell_type": "code",
   "execution_count": null,
   "id": "c1919e96",
   "metadata": {},
   "outputs": [],
   "source": []
  },
  {
   "cell_type": "code",
   "execution_count": null,
   "id": "c359abe0",
   "metadata": {},
   "outputs": [],
   "source": []
  },
  {
   "cell_type": "code",
   "execution_count": null,
   "id": "699d09f8",
   "metadata": {},
   "outputs": [],
   "source": []
  },
  {
   "cell_type": "code",
   "execution_count": null,
   "id": "c0015b28",
   "metadata": {},
   "outputs": [],
   "source": []
  },
  {
   "cell_type": "code",
   "execution_count": null,
   "id": "afe33413",
   "metadata": {},
   "outputs": [],
   "source": []
  },
  {
   "cell_type": "code",
   "execution_count": null,
   "id": "37e17014",
   "metadata": {},
   "outputs": [],
   "source": []
  },
  {
   "cell_type": "code",
   "execution_count": null,
   "id": "fbfaa5df",
   "metadata": {},
   "outputs": [],
   "source": []
  },
  {
   "cell_type": "code",
   "execution_count": null,
   "id": "0537d5d8",
   "metadata": {},
   "outputs": [],
   "source": []
  },
  {
   "cell_type": "code",
   "execution_count": null,
   "id": "fa415254",
   "metadata": {},
   "outputs": [],
   "source": []
  },
  {
   "cell_type": "code",
   "execution_count": 20,
   "id": "4054e2bc",
   "metadata": {},
   "outputs": [],
   "source": [
    "nlp = spacy.load(\"en_core_web_sm\")"
   ]
  },
  {
   "cell_type": "code",
   "execution_count": 3,
   "id": "177c0391",
   "metadata": {},
   "outputs": [],
   "source": [
    "response_friends = requests.get(\"http://127.0.0.1:5000/\")"
   ]
  },
  {
   "cell_type": "code",
   "execution_count": 4,
   "id": "9e77da5f",
   "metadata": {},
   "outputs": [
    {
     "data": {
      "text/plain": [
       "<Response [200]>"
      ]
     },
     "execution_count": 4,
     "metadata": {},
     "output_type": "execute_result"
    }
   ],
   "source": [
    "response_friends"
   ]
  },
  {
   "cell_type": "code",
   "execution_count": 5,
   "id": "f6736245",
   "metadata": {},
   "outputs": [
    {
     "data": {
      "text/plain": [
       "{'Content-Type': 'text/html; charset=utf-8', 'Content-Length': '7', 'Server': 'Werkzeug/2.0.2 Python/3.8.5', 'Date': 'Sun, 28 Nov 2021 20:44:45 GMT'}"
      ]
     },
     "execution_count": 5,
     "metadata": {},
     "output_type": "execute_result"
    }
   ],
   "source": [
    "response_friends.headers"
   ]
  },
  {
   "cell_type": "code",
   "execution_count": 9,
   "id": "88aec07f",
   "metadata": {},
   "outputs": [],
   "source": [
    "response_friends2 = requests.get(\"http://127.0.0.1:5000/frases/Rachel\")"
   ]
  },
  {
   "cell_type": "code",
   "execution_count": 10,
   "id": "65893311",
   "metadata": {},
   "outputs": [
    {
     "data": {
      "text/plain": [
       "<Response [200]>"
      ]
     },
     "execution_count": 10,
     "metadata": {},
     "output_type": "execute_result"
    }
   ],
   "source": [
    "response_friends2"
   ]
  },
  {
   "cell_type": "code",
   "execution_count": null,
   "id": "63a1fa36",
   "metadata": {},
   "outputs": [],
   "source": []
  }
 ],
 "metadata": {
  "kernelspec": {
   "display_name": "ironhack",
   "language": "python",
   "name": "ironhack"
  },
  "language_info": {
   "codemirror_mode": {
    "name": "ipython",
    "version": 3
   },
   "file_extension": ".py",
   "mimetype": "text/x-python",
   "name": "python",
   "nbconvert_exporter": "python",
   "pygments_lexer": "ipython3",
   "version": "3.8.5"
  }
 },
 "nbformat": 4,
 "nbformat_minor": 5
}
